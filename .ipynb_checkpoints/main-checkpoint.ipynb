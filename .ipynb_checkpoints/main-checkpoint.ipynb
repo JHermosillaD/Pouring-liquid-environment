{
 "cells": [
  {
   "cell_type": "code",
   "execution_count": 1,
   "id": "3ac3ae09-ae05-4a8f-93d1-4d5080e35efa",
   "metadata": {},
   "outputs": [
    {
     "name": "stderr",
     "output_type": "stream",
     "text": [
      "2023-10-01 03:28:00.013081: W tensorflow/stream_executor/platform/default/dso_loader.cc:64] Could not load dynamic library 'libcudart.so.11.0'; dlerror: libcudart.so.11.0: cannot open shared object file: No such file or directory; LD_LIBRARY_PATH: /home/jhermosilla/robotica/demos_ws/devel/lib:/home/jhermosilla/ros_ws/devel/lib:/opt/ros/noetic/lib:/opt/ros/noetic/lib/x86_64-linux-gnu\n",
      "2023-10-01 03:28:00.013104: I tensorflow/stream_executor/cuda/cudart_stub.cc:29] Ignore above cudart dlerror if you do not have a GPU set up on your machine.\n"
     ]
    }
   ],
   "source": [
    "import tensorflow as tf\n",
    "import warnings\n",
    "warnings.filterwarnings('ignore')\n",
    "tf.get_logger().setLevel('ERROR')"
   ]
  },
  {
   "cell_type": "code",
   "execution_count": 2,
   "id": "b1d544c9-d7d3-4516-b59f-978a1b4595bb",
   "metadata": {},
   "outputs": [],
   "source": [
    "from gym import Env, spaces\n",
    "import numpy as np\n",
    "import random\n",
    "import math\n",
    "\n",
    "from tensorflow.keras.optimizers import Adam\n",
    "from keras.layers import Dense, Dropout\n",
    "from keras.models import load_model\n",
    "from tabulate import tabulate\n",
    "from keras import Sequential"
   ]
  },
  {
   "cell_type": "code",
   "execution_count": 3,
   "id": "5095c32c-e2b0-4b73-a8c7-ea3e2fac4211",
   "metadata": {},
   "outputs": [],
   "source": [
    "np.random.seed(1)\n",
    "tf.random.set_seed(1)"
   ]
  },
  {
   "cell_type": "code",
   "execution_count": 4,
   "id": "897cc19c-3426-4ddd-8501-84ac12ec6ae1",
   "metadata": {},
   "outputs": [],
   "source": [
    "class pouringEnv(Env):\n",
    "  def __init__(self, path=None):\n",
    "    self.action_space = spaces.Discrete(21) \n",
    "    self.state_shape = (2,)\n",
    "    self.action_shape = self.action_space.n\n",
    "    self.gamma=0.99 \n",
    "    self.alpha=1e-4 \n",
    "    self.learning_rate=0.01 \n",
    "\n",
    "    # Container parameters\n",
    "    self.h_c = 10.0\n",
    "    self.r_c = 2.5\n",
    "    self.h_l = self.h_c/2.0\n",
    "    self.v_l = self.h_l*math.pi*self.r_c**2\n",
    "    self.w_E = (2/3)*self.v_l\n",
    "    \n",
    "    self.alpha_lamda = 1.5708\n",
    "    self.alpha_gamma = 0.6\n",
    "    self.alpha_beta = 2.5\n",
    "\n",
    "    self.alpha_spill = math.atan((self.h_c-self.h_l)/self.r_c)\n",
    "    self.time_spill = -math.sqrt(-np.log(self.alpha_spill/self.alpha_lamda)/self.alpha_gamma) + self.alpha_beta\n",
    "    self.v_goal = 0\n",
    "    self.vt = 0\n",
    "    self.time = np.arange(0,self.alpha_beta,0.0333)\n",
    "    self.current_alpha = 0\n",
    "    if not path:\n",
    "      self.model=self._create_model() \n",
    "    else:\n",
    "      self.model=self.load_model(path)\n",
    "\n",
    "  def _create_model(self):\n",
    "    model=Sequential()\n",
    "    model.add(Dense(2, input_shape=self.state_shape, activation=\"relu\"))\n",
    "    model.add(Dense(12, activation=\"relu\"))\n",
    "    model.add(Dense(self.action_shape, activation=\"softmax\"))\n",
    "    model.compile(loss=\"categorical_crossentropy\",\n",
    "            optimizer=Adam(lr=self.learning_rate))\n",
    "    return model\n",
    "\n",
    "  def get_action(self, state):\n",
    "    state=state.reshape([1, state.shape[0]])\n",
    "    action_probability_distribution=self.model.predict(state, verbose=0).flatten()\n",
    "    action=np.random.choice(self.action_shape,1,p=action_probability_distribution)[0]\n",
    "    return action, action_probability_distribution\n",
    "\n",
    "  def get_alpha(self, time):\n",
    "    return self.alpha_lamda*np.exp(-self.alpha_gamma*(time-self.alpha_beta)**2)\n",
    "\n",
    "  def V_stack(self, itime):\n",
    "    t = np.arange(0, itime, 0.0333)\n",
    "    alphas = self.get_alpha(t)\n",
    "    h1 = self.h_l + self.r_c*np.tan(alphas)\n",
    "    h2 = self.h_c - h1\n",
    "    \n",
    "    if (h2[-1] >= 0.001):\n",
    "        v = np.zeros((len(t)))\n",
    "    else:\n",
    "        a = self.time_spill/10.0\n",
    "        h = (self.r_c)*np.exp(-((t-self.time_spill)**2)/(2*a**2))\n",
    "        v = np.tan(alphas)*h**2\n",
    "\n",
    "    return np.sum(v)\n",
    "\n",
    "  def reset(self):\n",
    "    time_i = np.random.choice(self.time)\n",
    "    alpha_i = self.get_alpha(time_i)    \n",
    "    self.current_alpha = alpha_i\n",
    "    h1 = self.h_l + self.r_c*math.tan(alpha_i)\n",
    "    h2 = self.h_c - h1\n",
    "    print(h1, h2)\n",
    "    k = np.random.choice(np.arange(0.5, 1.55, 0.05))\n",
    "    self.v_goal = self.w_E*k\n",
    "    \n",
    "    if (h2 >= 0.001):\n",
    "        h_i = -(self.h_c*math.sin(alpha_i+math.pi/2) - h1*math.sin(alpha_i+math.pi/2))\n",
    "        v_i = 0\n",
    "        v_0_i = 0\n",
    "        v_i_n = 0\n",
    "        d_i = (self.v_goal - v_0_i) - v_i\n",
    "    else:\n",
    "        a = self.time_spill/10.0\n",
    "        h_i = (self.r_c)*np.exp(-((time_i-self.time_spill)**2)/(2*a**2))\n",
    "        v_i = math.tan(alpha_i)*h_i**2\n",
    "        v_i_n = self.w_E*(v_i/self.V_stack(self.alpha_beta))\n",
    "        v_0_i = self.V_stack(time_i)\n",
    "        d_i = (self.v_goal - v_0_i) - v_i\n",
    "\n",
    "    print(\"---------------------------------------------\")\n",
    "    data = [[time_i, alpha_i, v_i, h_i]]\n",
    "    print(tabulate(data, headers=[\"time_i\", \"alpha_i\", \"V_i\", \"h_i\"]))\n",
    "    print(\"---------------------------------------------\")\n",
    "    data2 = [[self.time_spill, self.alpha_spill, self.v_goal]]\n",
    "    print(tabulate(data2, headers=[\"time_s\", \"alpha_s\", \"Vg\"]))\n",
    "    print(\"----------------------------\")\n",
    "    data3 = [[self.v_l, self.h_c, self.r_c, self.h_l]]\n",
    "    print(tabulate(data3, headers=[\"Vl\", \"hc\", \"rc\", \"hl\"]))\n",
    "    print(\"-------------------------\")\n",
    "\n",
    "    new_state = np.array([v_i_n, d_i])\n",
    "    return new_state\n",
    "\n",
    "  def mext_step(self, action):\n",
    "    action = action - 10\n",
    "    if (action < 0):\n",
    "      alpha_i = (-0.9*action**2)*(math.pi/180.0)\n",
    "    else:\n",
    "      alpha_i =  (0.9*action**2)*(math.pi/180.0)\n",
    "    alpha_i = alpha_i + self.current_alpha\n",
    "    self.current_alpha = alpha_i\n",
    "    time_i = -math.sqrt(-np.log(alpha_i/self.alpha_lamda)/self.alpha_gamma) + self.alpha_beta\n",
    "    h1 = self.h_l + self.r_c*math.tan(alpha_i)\n",
    "    h2 = self.h_c - h1\n",
    "    \n",
    "    if (h2 >= 0.001):\n",
    "        h_i = -(self.h_c*math.sin(alpha_i+math.pi/2) - h1*math.sin(alpha_i+math.pi/2))\n",
    "        v_i = 0\n",
    "        v_0_i = 0\n",
    "        v_i_n = 0\n",
    "        d_i = (self.v_goal - v_0_i) - v_i\n",
    "    else:\n",
    "        a = self.time_spill/10.0\n",
    "        h_i = (self.r_c)*np.exp(-((time_i-self.time_spill)**2)/(2*a**2))\n",
    "        v_i = math.tan(alpha_i)*h_i**2\n",
    "        v_i_n = self.w_E*(v_i/self.V_stack(self.alpha_beta))\n",
    "        v_0_i = self.V_stack(time_i)\n",
    "        d_i = (self.v_goal - v_0_i) - v_i\n",
    "    \n",
    "    new_state = np.array([v_i_n, d_i])\n",
    "    done = False\n",
    "    deltaV = self.v_goal - (v_0_i+v_i)\n",
    "    if ((deltaV) <= 1):\n",
    "      done = True\n",
    "    return new_state, done, deltaV"
   ]
  },
  {
   "cell_type": "code",
   "execution_count": 5,
   "id": "b59f0dec-6641-495e-9996-257f539c18b8",
   "metadata": {},
   "outputs": [
    {
     "name": "stderr",
     "output_type": "stream",
     "text": [
      "2023-10-01 03:28:01.488314: I tensorflow/stream_executor/cuda/cuda_gpu_executor.cc:936] successful NUMA node read from SysFS had negative value (-1), but there must be at least one NUMA node, so returning NUMA node zero\n",
      "2023-10-01 03:28:01.488522: W tensorflow/stream_executor/platform/default/dso_loader.cc:64] Could not load dynamic library 'libcudart.so.11.0'; dlerror: libcudart.so.11.0: cannot open shared object file: No such file or directory; LD_LIBRARY_PATH: /home/jhermosilla/anaconda3/lib/python3.9/site-packages/cv2/../../lib64:/home/jhermosilla/robotica/demos_ws/devel/lib:/home/jhermosilla/ros_ws/devel/lib:/opt/ros/noetic/lib:/opt/ros/noetic/lib/x86_64-linux-gnu\n",
      "2023-10-01 03:28:01.488572: W tensorflow/stream_executor/platform/default/dso_loader.cc:64] Could not load dynamic library 'libcublas.so.11'; dlerror: libcublas.so.11: cannot open shared object file: No such file or directory; LD_LIBRARY_PATH: /home/jhermosilla/anaconda3/lib/python3.9/site-packages/cv2/../../lib64:/home/jhermosilla/robotica/demos_ws/devel/lib:/home/jhermosilla/ros_ws/devel/lib:/opt/ros/noetic/lib:/opt/ros/noetic/lib/x86_64-linux-gnu\n",
      "2023-10-01 03:28:01.488617: W tensorflow/stream_executor/platform/default/dso_loader.cc:64] Could not load dynamic library 'libcublasLt.so.11'; dlerror: libcublasLt.so.11: cannot open shared object file: No such file or directory; LD_LIBRARY_PATH: /home/jhermosilla/anaconda3/lib/python3.9/site-packages/cv2/../../lib64:/home/jhermosilla/robotica/demos_ws/devel/lib:/home/jhermosilla/ros_ws/devel/lib:/opt/ros/noetic/lib:/opt/ros/noetic/lib/x86_64-linux-gnu\n",
      "2023-10-01 03:28:01.490127: W tensorflow/stream_executor/platform/default/dso_loader.cc:64] Could not load dynamic library 'libcusolver.so.11'; dlerror: libcusolver.so.11: cannot open shared object file: No such file or directory; LD_LIBRARY_PATH: /home/jhermosilla/anaconda3/lib/python3.9/site-packages/cv2/../../lib64:/home/jhermosilla/robotica/demos_ws/devel/lib:/home/jhermosilla/ros_ws/devel/lib:/opt/ros/noetic/lib:/opt/ros/noetic/lib/x86_64-linux-gnu\n",
      "2023-10-01 03:28:01.490186: W tensorflow/stream_executor/platform/default/dso_loader.cc:64] Could not load dynamic library 'libcusparse.so.11'; dlerror: libcusparse.so.11: cannot open shared object file: No such file or directory; LD_LIBRARY_PATH: /home/jhermosilla/anaconda3/lib/python3.9/site-packages/cv2/../../lib64:/home/jhermosilla/robotica/demos_ws/devel/lib:/home/jhermosilla/ros_ws/devel/lib:/opt/ros/noetic/lib:/opt/ros/noetic/lib/x86_64-linux-gnu\n",
      "2023-10-01 03:28:01.490232: W tensorflow/stream_executor/platform/default/dso_loader.cc:64] Could not load dynamic library 'libcudnn.so.8'; dlerror: libcudnn.so.8: cannot open shared object file: No such file or directory; LD_LIBRARY_PATH: /home/jhermosilla/anaconda3/lib/python3.9/site-packages/cv2/../../lib64:/home/jhermosilla/robotica/demos_ws/devel/lib:/home/jhermosilla/ros_ws/devel/lib:/opt/ros/noetic/lib:/opt/ros/noetic/lib/x86_64-linux-gnu\n",
      "2023-10-01 03:28:01.490242: W tensorflow/core/common_runtime/gpu/gpu_device.cc:1850] Cannot dlopen some GPU libraries. Please make sure the missing libraries mentioned above are installed properly if you would like to use GPU. Follow the guide at https://www.tensorflow.org/install/gpu for how to download and setup the required libraries for your platform.\n",
      "Skipping registering GPU devices...\n",
      "2023-10-01 03:28:01.490699: I tensorflow/core/platform/cpu_feature_guard.cc:151] This TensorFlow binary is optimized with oneAPI Deep Neural Network Library (oneDNN) to use the following CPU instructions in performance-critical operations:  AVX2 FMA\n",
      "To enable them in other operations, rebuild TensorFlow with the appropriate compiler flags.\n"
     ]
    }
   ],
   "source": [
    "agent = pouringEnv()"
   ]
  },
  {
   "cell_type": "code",
   "execution_count": 6,
   "id": "1eb071cd-2e17-4453-b135-68b3512f71fb",
   "metadata": {},
   "outputs": [
    {
     "name": "stdout",
     "output_type": "stream",
     "text": [
      "6.705657238211678 3.2943427617883216\n",
      "---------------------------------------------\n",
      "  time_i    alpha_i    V_i       h_i\n",
      "--------  ---------  -----  --------\n",
      "  1.2321   0.598722      0  -2.72131\n",
      "---------------------------------------------\n",
      "  time_s    alpha_s       Vg\n",
      "--------  ---------  -------\n",
      " 1.73646    1.10715  68.7223\n",
      "----------------------------\n",
      "     Vl    hc    rc    hl\n",
      "-------  ----  ----  ----\n",
      "98.1748    10   2.5     5\n",
      "-------------------------\n"
     ]
    }
   ],
   "source": [
    "state = agent.reset()"
   ]
  },
  {
   "cell_type": "code",
   "execution_count": 7,
   "id": "4103a45b-e69c-4fb3-be21-f364e8709e1a",
   "metadata": {},
   "outputs": [],
   "source": [
    "action, prob = agent.get_action(state)\n",
    "done=False"
   ]
  },
  {
   "cell_type": "code",
   "execution_count": 8,
   "id": "3b57e31d-ca02-4dab-85f7-3390d17d8f2f",
   "metadata": {},
   "outputs": [
    {
     "name": "stdout",
     "output_type": "stream",
     "text": [
      "[ 0.        68.7223393] 1 68.72233929727675 False\n",
      "[ 0.        68.7223393] 15 68.72233929727675 False\n",
      "[ 0.        68.7223393] 15 68.72233929727675 False\n",
      "[ 0.        68.7223393] 15 68.72233929727675 False\n",
      "[ 0.        68.7223393] 15 68.72233929727675 False\n",
      "[ 0.        68.7223393] 15 -45.30001303384077 True\n"
     ]
    }
   ],
   "source": [
    "while not done:\n",
    "  action, prob = agent.get_action(state)\n",
    "  next_state, done, deltaV = agent.mext_step(action)\n",
    "  print(state, action, deltaV, done)\n",
    "  state = next_state"
   ]
  },
  {
   "cell_type": "code",
   "execution_count": 9,
   "id": "3dd40e13-508e-4550-b1e6-ff617777920a",
   "metadata": {},
   "outputs": [
    {
     "ename": "ValueError",
     "evalue": "math domain error",
     "output_type": "error",
     "traceback": [
      "\u001b[0;31m---------------------------------------------------------------------------\u001b[0m",
      "\u001b[0;31mValueError\u001b[0m                                Traceback (most recent call last)",
      "\u001b[0;32m/tmp/ipykernel_225785/523926315.py\u001b[0m in \u001b[0;36m<module>\u001b[0;34m\u001b[0m\n\u001b[0;32m----> 1\u001b[0;31m \u001b[0mnext_state\u001b[0m\u001b[0;34m,\u001b[0m \u001b[0mdone\u001b[0m\u001b[0;34m,\u001b[0m \u001b[0mdeltaV\u001b[0m \u001b[0;34m=\u001b[0m \u001b[0magent\u001b[0m\u001b[0;34m.\u001b[0m\u001b[0mmext_step\u001b[0m\u001b[0;34m(\u001b[0m\u001b[0maction\u001b[0m\u001b[0;34m)\u001b[0m\u001b[0;34m\u001b[0m\u001b[0;34m\u001b[0m\u001b[0m\n\u001b[0m",
      "\u001b[0;32m/tmp/ipykernel_225785/196842104.py\u001b[0m in \u001b[0;36mmext_step\u001b[0;34m(self, action)\u001b[0m\n\u001b[1;32m    109\u001b[0m     \u001b[0malpha_i\u001b[0m \u001b[0;34m=\u001b[0m \u001b[0malpha_i\u001b[0m \u001b[0;34m+\u001b[0m \u001b[0mself\u001b[0m\u001b[0;34m.\u001b[0m\u001b[0mcurrent_alpha\u001b[0m\u001b[0;34m\u001b[0m\u001b[0;34m\u001b[0m\u001b[0m\n\u001b[1;32m    110\u001b[0m     \u001b[0mself\u001b[0m\u001b[0;34m.\u001b[0m\u001b[0mcurrent_alpha\u001b[0m \u001b[0;34m=\u001b[0m \u001b[0malpha_i\u001b[0m\u001b[0;34m\u001b[0m\u001b[0;34m\u001b[0m\u001b[0m\n\u001b[0;32m--> 111\u001b[0;31m     \u001b[0mtime_i\u001b[0m \u001b[0;34m=\u001b[0m \u001b[0;34m-\u001b[0m\u001b[0mmath\u001b[0m\u001b[0;34m.\u001b[0m\u001b[0msqrt\u001b[0m\u001b[0;34m(\u001b[0m\u001b[0;34m-\u001b[0m\u001b[0mnp\u001b[0m\u001b[0;34m.\u001b[0m\u001b[0mlog\u001b[0m\u001b[0;34m(\u001b[0m\u001b[0malpha_i\u001b[0m\u001b[0;34m/\u001b[0m\u001b[0mself\u001b[0m\u001b[0;34m.\u001b[0m\u001b[0malpha_lamda\u001b[0m\u001b[0;34m)\u001b[0m\u001b[0;34m/\u001b[0m\u001b[0mself\u001b[0m\u001b[0;34m.\u001b[0m\u001b[0malpha_gamma\u001b[0m\u001b[0;34m)\u001b[0m \u001b[0;34m+\u001b[0m \u001b[0mself\u001b[0m\u001b[0;34m.\u001b[0m\u001b[0malpha_beta\u001b[0m\u001b[0;34m\u001b[0m\u001b[0;34m\u001b[0m\u001b[0m\n\u001b[0m\u001b[1;32m    112\u001b[0m     \u001b[0mh1\u001b[0m \u001b[0;34m=\u001b[0m \u001b[0mself\u001b[0m\u001b[0;34m.\u001b[0m\u001b[0mh_l\u001b[0m \u001b[0;34m+\u001b[0m \u001b[0mself\u001b[0m\u001b[0;34m.\u001b[0m\u001b[0mr_c\u001b[0m\u001b[0;34m*\u001b[0m\u001b[0mmath\u001b[0m\u001b[0;34m.\u001b[0m\u001b[0mtan\u001b[0m\u001b[0;34m(\u001b[0m\u001b[0malpha_i\u001b[0m\u001b[0;34m)\u001b[0m\u001b[0;34m\u001b[0m\u001b[0;34m\u001b[0m\u001b[0m\n\u001b[1;32m    113\u001b[0m     \u001b[0mh2\u001b[0m \u001b[0;34m=\u001b[0m \u001b[0mself\u001b[0m\u001b[0;34m.\u001b[0m\u001b[0mh_c\u001b[0m \u001b[0;34m-\u001b[0m \u001b[0mh1\u001b[0m\u001b[0;34m\u001b[0m\u001b[0;34m\u001b[0m\u001b[0m\n",
      "\u001b[0;31mValueError\u001b[0m: math domain error"
     ]
    }
   ],
   "source": [
    "next_state, done, deltaV = agent.mext_step(action)"
   ]
  },
  {
   "cell_type": "code",
   "execution_count": null,
   "id": "d3c6ee95-1808-4d0e-a821-2597ff555e0e",
   "metadata": {},
   "outputs": [],
   "source": [
    "next_state"
   ]
  },
  {
   "cell_type": "code",
   "execution_count": null,
   "id": "3c4b2ace-30e2-4b06-b108-d0928cbd7f1a",
   "metadata": {},
   "outputs": [],
   "source": [
    "done"
   ]
  },
  {
   "cell_type": "code",
   "execution_count": null,
   "id": "345d77e2-5f24-4c85-9809-978635a398b9",
   "metadata": {},
   "outputs": [],
   "source": [
    "deltaV"
   ]
  },
  {
   "cell_type": "code",
   "execution_count": null,
   "id": "a3ded5a2-1f88-441a-a2e4-80483e8ef377",
   "metadata": {},
   "outputs": [],
   "source": []
  }
 ],
 "metadata": {
  "kernelspec": {
   "display_name": "Python 3 (ipykernel)",
   "language": "python",
   "name": "python3"
  },
  "language_info": {
   "codemirror_mode": {
    "name": "ipython",
    "version": 3
   },
   "file_extension": ".py",
   "mimetype": "text/x-python",
   "name": "python",
   "nbconvert_exporter": "python",
   "pygments_lexer": "ipython3",
   "version": "3.9.13"
  }
 },
 "nbformat": 4,
 "nbformat_minor": 5
}
